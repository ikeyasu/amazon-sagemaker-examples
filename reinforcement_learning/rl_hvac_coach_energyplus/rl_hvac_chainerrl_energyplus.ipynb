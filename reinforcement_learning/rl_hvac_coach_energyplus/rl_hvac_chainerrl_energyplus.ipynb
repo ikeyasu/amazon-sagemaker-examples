{
 "cells": [
  {
   "cell_type": "markdown",
   "metadata": {},
   "source": [
    "Import"
   ]
  },
  {
   "cell_type": "code",
   "execution_count": null,
   "metadata": {},
   "outputs": [],
   "source": [
    "import sagemaker\n",
    "import boto3\n",
    "import sys\n",
    "import os\n",
    "import glob\n",
    "import re\n",
    "import subprocess\n",
    "import numpy as np\n",
    "from IPython.display import HTML\n",
    "import time\n",
    "from time import gmtime, strftime\n",
    "sys.path.append(\"common\")\n",
    "from misc import get_execution_role, wait_for_s3_object\n",
    "from docker_utils import build_and_push_docker_image\n",
    "from sagemaker.rl import RLEstimator, RLToolkit, RLFramework"
   ]
  },
  {
   "cell_type": "markdown",
   "metadata": {},
   "source": [
    "Setup S3 bucket"
   ]
  },
  {
   "cell_type": "code",
   "execution_count": null,
   "metadata": {},
   "outputs": [],
   "source": [
    "sage_session = sagemaker.session.Session()\n",
    "s3_bucket = sage_session.default_bucket()  \n",
    "s3_output_path = 's3://{}/'.format(s3_bucket)\n",
    "print(\"S3 bucket path: {}\".format(s3_output_path))"
   ]
  },
  {
   "cell_type": "markdown",
   "metadata": {},
   "source": [
    "Configuration"
   ]
  },
  {
   "cell_type": "code",
   "execution_count": null,
   "metadata": {},
   "outputs": [],
   "source": [
    "# create unique job name \n",
    "job_name_prefix = 'rl-hvac-chainer'\n",
    "\n",
    "# TODO: eplus env cannot work on local.\n",
    "local_mode = False\n",
    "\n",
    "instance_type = \"local\" if local_mode else \"ml.m4.4xlarge\"\n",
    "\n",
    "try:\n",
    "    role = sagemaker.get_execution_role()\n",
    "except:\n",
    "    role = get_execution_role()\n",
    "\n",
    "print(\"Using IAM role arn: {}\".format(role))\n",
    "\n",
    "# Only run from SageMaker notebook instance\n",
    "if local_mode:\n",
    "    !/bin/bash ./common/setup.sh"
   ]
  },
  {
   "cell_type": "markdown",
   "metadata": {},
   "source": [
    "hvac用のdockerコンテナをビルドします。 / build docker container for hvac sample.\n",
    "\n",
    "* **同じディレクトリにあるDockerfileの先頭を自分でビルドした sagemaker-rl-chainerrl に書き換えて下さい。**\n",
    "/ **Please replace to your ECR repository on top of Dockerfile.**\n",
    "* sagemaker-rl-chainerrlのビルド方法は[こちら](https://gist.github.com/ikeyasu/71a4b07ce6ecc7465c4e984ac5f5c855) / Please refer to [here](https://gist.github.com/ikeyasu/71a4b07ce6ecc7465c4e984ac5f5c855) for building sagemaker-rl-container.\n",
    "\n",
    "例(Example)：\n",
    "```\n",
    "ARG CPU_OR_GPU\n",
    "ARG AWS_REGION\n",
    "FROM xxxx.dkr.ecr.ap-northeast-1.amazonaws.com/sagemaker-rl-chainer:chainerrl0.5.0-${CPU_OR_GPU}-py3\n",
    "```\n",
    "\n",
    "`xxxx.dkr.ecr` で始まる部分を置き換えます。 / Please replace the start with `xxx.dkr.ecr`.\n",
    "\n",
    "上記が終わったら以下を実行し、hvac 用のDockerイメージをビルドして下さい"
   ]
  },
  {
   "cell_type": "code",
   "execution_count": null,
   "metadata": {},
   "outputs": [],
   "source": [
    "cpu_or_gpu = 'gpu' if instance_type.startswith('ml.p') else 'cpu'\n",
    "repository_short_name = \"sagemaker-hvac-chainerrl-%s\" % cpu_or_gpu\n",
    "docker_build_args = {\n",
    "    'CPU_OR_GPU': cpu_or_gpu, \n",
    "    'AWS_REGION': boto3.Session().region_name,\n",
    "}\n",
    "custom_image_name = build_and_push_docker_image(repository_short_name, build_args=docker_build_args, dockerfile='Dockerfile')\n",
    "print(\"Using ECR image %s\" % custom_image_name)"
   ]
  },
  {
   "cell_type": "markdown",
   "metadata": {},
   "source": [
    "上記が終わったら、学習を開始します。"
   ]
  },
  {
   "cell_type": "code",
   "execution_count": null,
   "metadata": {},
   "outputs": [],
   "source": [
    "from sagemaker.chainer.estimator import Chainer\n",
    "\n",
    "print(\"Local mode.\" if local_mode else \"Launching training instance.\")\n",
    "\n",
    "# enegypower cannot work with ChainerRL if global step count is not multiple of episode len.\n",
    "# 288 is 12 * 24\n",
    "EPISODE_LEN = 288\n",
    "chainer_estimator = Chainer(entry_point='train_chainerrl_dqn.py',\n",
    "                            source_dir=\"src\",\n",
    "                            dependencies=[\"common/sagemaker_rl\"],\n",
    "                            role=role,\n",
    "                            sagemaker_session=None if local_mode else sage_session,\n",
    "                            image_name=custom_image_name,\n",
    "                            framework_version=\"5.0.0\",\n",
    "                            train_instance_count=1,\n",
    "                            train_instance_type=instance_type,\n",
    "                            output_path=s3_output_path,\n",
    "                            base_job_name=job_name_prefix,\n",
    "                            hyperparameters={\n",
    "                                'gpu': -1,\n",
    "                                'steps': EPISODE_LEN * 3,\n",
    "                                'eval-interval': EPISODE_LEN * 2,\n",
    "                                'eval-n-runs': 1,\n",
    "                            })\n",
    "\n",
    "chainer_estimator.fit(wait=False)"
   ]
  },
  {
   "cell_type": "code",
   "execution_count": null,
   "metadata": {},
   "outputs": [],
   "source": []
  }
 ],
 "metadata": {
  "kernelspec": {
   "display_name": "conda_chainer_p36",
   "language": "python",
   "name": "conda_chainer_p36"
  },
  "language_info": {
   "codemirror_mode": {
    "name": "ipython",
    "version": 3
   },
   "file_extension": ".py",
   "mimetype": "text/x-python",
   "name": "python",
   "nbconvert_exporter": "python",
   "pygments_lexer": "ipython3",
   "version": "3.6.5"
  }
 },
 "nbformat": 4,
 "nbformat_minor": 2
}
